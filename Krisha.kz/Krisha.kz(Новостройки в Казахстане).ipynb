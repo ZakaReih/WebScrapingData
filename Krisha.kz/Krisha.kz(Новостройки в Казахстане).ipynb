{
 "cells": [
  {
   "cell_type": "markdown",
   "id": "4c54e4e3",
   "metadata": {},
   "source": [
    "<div class='alert alert-block alert-warning' style=\"font-size: 20pt; font-family: cursive; color: #08415C\"> \n",
    "    <b> <center> Web Scraping Data</center> </b>\n",
    "</div>"
   ]
  },
  {
   "cell_type": "markdown",
   "id": "0e5ad81b",
   "metadata": {},
   "source": [
    "<div style=\"font-size: 13pt; font-family: verdana; color: #08415C\"> \n",
    "    The dataset has a total of 6 columns.\n",
    "    <ul>\n",
    "        <li>name - name of the residential complex</li>\n",
    "        <li>link - link from the site</li>\n",
    "        <li>address - address of the residential complex</li>    \n",
    "        <li>square_price - price per square meter</li>\n",
    "        <li>Area - the area of the apartment</li>\n",
    "        <li>price_start_from - inital prices for an apartment</li>\n",
    "    </ul>\n",
    "</div>"
   ]
  },
  {
   "cell_type": "code",
   "execution_count": 12,
   "id": "479a358b",
   "metadata": {},
   "outputs": [],
   "source": [
    "import requests\n",
    "from bs4 import BeautifulSoup\n",
    "from time import sleep"
   ]
  },
  {
   "cell_type": "code",
   "execution_count": 13,
   "id": "307d08d9",
   "metadata": {},
   "outputs": [],
   "source": [
    "url = \"https://krisha.kz/complex/search/\"\n",
    "\n",
    "r = requests.get(url)"
   ]
  },
  {
   "cell_type": "code",
   "execution_count": 14,
   "id": "0c0415ea",
   "metadata": {},
   "outputs": [],
   "source": [
    "soup = BeautifulSoup(r.text, 'html')"
   ]
  },
  {
   "cell_type": "code",
   "execution_count": 16,
   "id": "070dfbac",
   "metadata": {
    "scrolled": true
   },
   "outputs": [
    {
     "data": {
      "text/plain": [
       "<div class=\"complex-card complex-card--not-empty complex-card--with-result\" data-complex-alias=\"almaty/ramscity\" data-complex-id=\"11653762\" data-complex-region=\"Алматы\" data-filter-city=\"2\" data-free-call-visibility=\"\" data-has-buttons=\"1\" data-is-free=\"\" data-name=\"RAMS CITY\" data-work-time-from=\"09:00\" data-work-time-to=\"18:00\">\n",
       "<div class=\"complex-card__state\">\n",
       "                Строящийся\n",
       "            </div>\n",
       "<a class=\"complex-card__main-block complex-card__main-block--hypothec\" href=\"/complex/show/almaty/ramscity/\" target=\"_blank\">\n",
       "<div class=\"complex-card__child-block flats\">\n",
       "<div class=\"complex-card__info\">\n",
       "<div class=\"complex-card__header\"><picture>\n",
       "<img alt=\"RAMS CITY\" loading=\"lazy\" src=\"https://photos-kr.kcdn.kz/00/e1ff3fd6b9aaa7b1eb7ea1b71edc37fec75425/photo-448x280.jpg\"/>\n",
       "</picture>\n",
       "</div>\n",
       "</div>\n",
       "<div class=\"complex-card__content\">\n",
       "<span class=\"credit-badge credit-badge--hypothec-full\">\n",
       "<i class=\"credit-badge__icon fi-home-bordered\"></i>\n",
       "                                    Ипотека\n",
       "                                </span>\n",
       "<span class=\"credit-badge credit-badge--installment\">\n",
       "                                    0% Рассрочка\n",
       "                                </span>\n",
       "<div class=\"complex-card__price-wrapper\">\n",
       "<p class=\"complex-card__square-price\">\n",
       "                                    от 590 000 <span class=\"currency-sign offer__currency\">〒</span> за м²\n",
       "                                </p>\n",
       "<button class=\"complex-card__favorite-btn js-fav-complex-btn\" data-alias=\"almaty/ramscity\" data-id=\"11653762\" data-source=\"\" type=\"button\">\n",
       "<i class=\"complex-card__favorite-icon\"></i>\n",
       "</button></div>\n",
       "<p class=\"complex-card__title\">\n",
       "                            ЖК RAMS CITY\n",
       "                        </p>\n",
       "<p class=\"complex-card__address\">\n",
       "                            Алматы, Бостандыкский р-н, ул. Жандосова, 94А\n",
       "                        </p>\n",
       "<p class=\"complex-card__layout-nb\">\n",
       "                                10 квартир\n",
       "                            </p>\n",
       "<div class=\"complex-card__prices\">\n",
       "<div class=\"complex-card__prices-details\">\n",
       "<div class=\"complex-card__price-item complex-card__price-item--result\">\n",
       "<span>2-комн. 51.4 м²</span>\n",
       "<span class=\"complex-flat-price\">от 38 373 441 <span class=\"currency-sign offer__currency\">〒</span></span>\n",
       "</div>\n",
       "<div class=\"complex-card__price-item complex-card__price-item--result\">\n",
       "<span>3-комн. 68.9 м²</span>\n",
       "<span class=\"complex-flat-price\">от 50 641 500 <span class=\"currency-sign offer__currency\">〒</span></span>\n",
       "</div>\n",
       "</div>\n",
       "</div>\n",
       "</div>\n",
       "</div>\n",
       "</a>\n",
       "<div class=\"complex-card__phone\">\n",
       "<div class=\"complex-card__phone-block\">\n",
       "<div class=\"complex-card__phone-preview\" data-url-alias=\"almaty/ramscity\">\n",
       "<span>+7 778 </span>\n",
       "<a class=\"show-phone\">\n",
       "                                    Показать телефон\n",
       "                                </a>\n",
       "</div>\n",
       "<span class=\"complex-card__full-phone\"></span>\n",
       "</div>\n",
       "<button class=\"complex-card__order-call btn btn-block\" data-alias=\"almaty/ramscity\" data-id=\"11653762\" data-layout=\"0\" data-name=\"RAMS CITY\" type=\"button\">\n",
       "                        Заказать обратный звонок\n",
       "                    </button>\n",
       "</div>\n",
       "</div>"
      ]
     },
     "execution_count": 16,
     "metadata": {},
     "output_type": "execute_result"
    }
   ],
   "source": [
    "main_card = soup.find('div', class_='complex-card complex-card--not-empty complex-card--with-result')\n",
    "main_card"
   ]
  },
  {
   "cell_type": "code",
   "execution_count": 17,
   "id": "4de1ac47",
   "metadata": {
    "scrolled": true
   },
   "outputs": [
    {
     "data": {
      "text/plain": [
       "'https://krisha.kz/complex/show/almaty/ramscity/'"
      ]
     },
     "execution_count": 17,
     "metadata": {},
     "output_type": "execute_result"
    }
   ],
   "source": [
    "link = 'https://krisha.kz' + main_card.find('a', class_=\"complex-card__main-block complex-card__main-block--hypothec\").get(\"href\")\n",
    "link"
   ]
  },
  {
   "cell_type": "code",
   "execution_count": 18,
   "id": "2bfed3f5",
   "metadata": {},
   "outputs": [
    {
     "data": {
      "text/plain": [
       "'ЖК RAMS CITY'"
      ]
     },
     "execution_count": 18,
     "metadata": {},
     "output_type": "execute_result"
    }
   ],
   "source": [
    "name = main_card.find('a', class_=\"complex-card__main-block complex-card__main-block--hypothec\").find('p', class_='complex-card__title').text.strip()\n",
    "name"
   ]
  },
  {
   "cell_type": "code",
   "execution_count": 19,
   "id": "6eb5cc0d",
   "metadata": {},
   "outputs": [
    {
     "data": {
      "text/plain": [
       "'Алматы, Бостандыкский р-н, ул. Жандосова, 94А'"
      ]
     },
     "execution_count": 19,
     "metadata": {},
     "output_type": "execute_result"
    }
   ],
   "source": [
    "address = main_card.find('a', class_=\"complex-card__main-block complex-card__main-block--hypothec\").find('p', class_='complex-card__address').text.strip()\n",
    "address"
   ]
  },
  {
   "cell_type": "code",
   "execution_count": 20,
   "id": "d00fbaec",
   "metadata": {},
   "outputs": [
    {
     "data": {
      "text/plain": [
       "'590000²tg'"
      ]
     },
     "execution_count": 20,
     "metadata": {},
     "output_type": "execute_result"
    }
   ],
   "source": [
    "square_price = ''.join(filter(str.isdigit, main_card.find('a', class_=\"complex-card__main-block complex-card__main-block--hypothec\").find('p', class_='complex-card__square-price').text)) + 'tg'\n",
    "square_price"
   ]
  },
  {
   "cell_type": "code",
   "execution_count": 21,
   "id": "8acfe909",
   "metadata": {},
   "outputs": [
    {
     "data": {
      "text/plain": [
       "'2-комн. 51.4 м²'"
      ]
     },
     "execution_count": 21,
     "metadata": {},
     "output_type": "execute_result"
    }
   ],
   "source": [
    "Area = main_card.find('a', class_=\"complex-card__main-block complex-card__main-block--hypothec\").find('div', class_='complex-card__price-item complex-card__price-item--result').find('span').text\n",
    "Area"
   ]
  },
  {
   "cell_type": "code",
   "execution_count": 22,
   "id": "61cf9c3a",
   "metadata": {},
   "outputs": [
    {
     "data": {
      "text/plain": [
       "'38373441'"
      ]
     },
     "execution_count": 22,
     "metadata": {},
     "output_type": "execute_result"
    }
   ],
   "source": [
    "price_start_from = ''.join(filter(str.isdigit, main_card.find('a', class_=\"complex-card__main-block complex-card__main-block--hypothec\").find('span', class_='complex-flat-price').text))\n",
    "price_start_from"
   ]
  },
  {
   "cell_type": "code",
   "execution_count": 23,
   "id": "4599d693",
   "metadata": {},
   "outputs": [
    {
     "data": {
      "text/plain": [
       "38373441"
      ]
     },
     "execution_count": 23,
     "metadata": {},
     "output_type": "execute_result"
    }
   ],
   "source": [
    "text = price_start_from\n",
    "numeric_value = ''.join(filter(str.isdigit, text))\n",
    "price_start_from = int(numeric_value)\n",
    "price_start_from"
   ]
  },
  {
   "cell_type": "code",
   "execution_count": 24,
   "id": "76f06eff",
   "metadata": {},
   "outputs": [
    {
     "data": {
      "text/plain": [
       "11"
      ]
     },
     "execution_count": 24,
     "metadata": {},
     "output_type": "execute_result"
    }
   ],
   "source": [
    "flats = soup.findAll('div', class_='complex-card complex-card--not-empty complex-card--with-result')\n",
    "len(flats)"
   ]
  },
  {
   "cell_type": "code",
   "execution_count": 25,
   "id": "562c92dd",
   "metadata": {
    "scrolled": true
   },
   "outputs": [
    {
     "name": "stdout",
     "output_type": "stream",
     "text": [
      "Web scraping page: 1\n",
      "Web scraping page: 2\n",
      "Web scraping page: 3\n",
      "Web scraping page: 4\n",
      "Web scraping page: 5\n",
      "Web scraping page: 6\n",
      "Web scraping page: 7\n",
      "Web scraping page: 8\n",
      "Web scraping page: 9\n",
      "Web scraping page: 10\n",
      "Web scraping page: 11\n",
      "Web scraping page: 12\n",
      "Web scraping page: 13\n",
      "Web scraping page: 14\n",
      "Web scraping page: 15\n",
      "Web scraping page: 16\n",
      "Web scraping page: 17\n",
      "Web scraping page: 18\n",
      "Web scraping page: 19\n",
      "Web scraping page: 20\n",
      "Web scraping page: 21\n",
      "Web scraping page: 22\n",
      "Web scraping page: 23\n",
      "Web scraping page: 24\n",
      "Web scraping page: 25\n",
      "Web scraping page: 26\n",
      "Web scraping page: 27\n",
      "Web scraping page: 28\n",
      "Web scraping page: 29\n",
      "Web scraping page: 30\n",
      "Web scraping page: 31\n",
      "Web scraping page: 32\n",
      "Web scraping page: 33\n",
      "Web scraping page: 34\n",
      "Web scraping page: 35\n",
      "Web scraping page: 36\n",
      "Web scraping page: 37\n",
      "Web scraping page: 38\n",
      "Web scraping page: 39\n",
      "Web scraping page: 40\n",
      "Web scraping page: 41\n",
      "Web scraping page: 42\n",
      "Web scraping page: 43\n",
      "Web scraping page: 44\n",
      "Web scraping page: 45\n",
      "Web scraping page: 46\n",
      "Web scraping page: 47\n",
      "Web scraping page: 48\n",
      "Web scraping page: 49\n",
      "Web scraping page: 50\n",
      "Web scraping page: 51\n",
      "Web scraping page: 52\n",
      "Web scraping page: 53\n",
      "Web scraping page: 54\n",
      "Web scraping page: 55\n",
      "Web scraping page: 56\n",
      "Web scraping page: 57\n",
      "Web scraping page: 58\n",
      "Web scraping page: 59\n",
      "Web scraping page: 60\n",
      "Web scraping page: 61\n",
      "Web scraping page: 62\n",
      "Web scraping page: 63\n",
      "Web scraping page: 64\n",
      "Web scraping page: 65\n",
      "Web scraping page: 66\n",
      "Web scraping page: 67\n",
      "Web scraping page: 68\n",
      "Web scraping page: 69\n",
      "Web scraping page: 70\n",
      "Web scraping page: 71\n",
      "Web scraping page: 72\n",
      "Web scraping page: 73\n",
      "Web scraping page: 74\n",
      "Web scraping page: 75\n",
      "Web scraping page: 76\n",
      "Web scraping page: 77\n",
      "Web scraping page: 78\n",
      "Web scraping page: 79\n",
      "Web scraping page: 80\n",
      "Web scraping page: 81\n",
      "Web scraping page: 82\n",
      "Web scraping page: 83\n",
      "Web scraping page: 84\n",
      "Web scraping page: 85\n",
      "Web scraping page: 86\n",
      "Web scraping page: 87\n"
     ]
    }
   ],
   "source": [
    "flat_dict = {}\n",
    "\n",
    "for p in range(1, 88):\n",
    "    \n",
    "    print('Web scraping page:', p)\n",
    "    \n",
    "    url = f\"https://krisha.kz/complex/search/ramscity/?state[]=1&state[]=2&page={p}\"\n",
    "    r = requests.get(url)\n",
    "    sleep(2)\n",
    "    soup = BeautifulSoup(r.text, 'lxml')\n",
    "    \n",
    "    flats = soup.findAll('a', class_=\"complex-card__main-block complex-card__main-block--hypothec\")\n",
    "    \n",
    "    \n",
    "\n",
    "    for flat in flats:\n",
    "        \n",
    "        flat_name = flat.find('p', class_='complex-card__title').text.strip()\n",
    "        flat_dict[flat_name] = {}  # Create a nested dictionary for each flat\n",
    "        \n",
    "        try:\n",
    "            link = 'https://krisha.kz' + str(flat.get(\"href\"))\n",
    "            flat_dict[flat_name]['link'] = link\n",
    "        except AttributeError:\n",
    "            flat_dict[flat_name]['link'] = None\n",
    "            \n",
    "        try:\n",
    "            address_element = flat.find('p', class_='complex-card__address')\n",
    "            flat_dict[flat_name]['address'] = address_element.text.strip()\n",
    "        except AttributeError:\n",
    "            flat_dict[flat_name]['address'] = None\n",
    "\n",
    "        try:\n",
    "            square_price_element = flat.find('p', class_='complex-card__square-price')\n",
    "            square_price = ''.join(filter(str.isdigit, square_price_element.text)) + 'tg'\n",
    "            flat_dict[flat_name]['square_price'] = square_price\n",
    "        except AttributeError:\n",
    "            flat_dict[flat_name]['square_price'] = None\n",
    "\n",
    "        try:\n",
    "            area_element = flat.find('div', class_='complex-card__price-item complex-card__price-item--result').find('span')\n",
    "            flat_dict[flat_name]['Area'] = area_element.text\n",
    "        except AttributeError:\n",
    "            flat_dict[flat_name]['Area'] = None\n",
    "\n",
    "        try:\n",
    "            price_element = flat.find('span', class_='complex-flat-price')\n",
    "            price_start_from = ''.join(filter(str.isdigit, price_element.text))\n",
    "            flat_dict[flat_name]['price_start_from'] = price_start_from\n",
    "        except AttributeError:\n",
    "            flat_dict[flat_name]['price_start_from'] = None\n",
    "\n",
    "    \n",
    "\n",
    "# Now, the 'data' dictionary contains data for each flat with possible missing values set to None\n"
   ]
  },
  {
   "cell_type": "code",
   "execution_count": 26,
   "id": "17707703",
   "metadata": {},
   "outputs": [
    {
     "data": {
      "text/plain": [
       "795"
      ]
     },
     "execution_count": 26,
     "metadata": {},
     "output_type": "execute_result"
    }
   ],
   "source": [
    "len(flat_dict)"
   ]
  },
  {
   "cell_type": "code",
   "execution_count": 36,
   "id": "2994647f",
   "metadata": {},
   "outputs": [
    {
     "data": {
      "text/html": [
       "<div>\n",
       "<style scoped>\n",
       "    .dataframe tbody tr th:only-of-type {\n",
       "        vertical-align: middle;\n",
       "    }\n",
       "\n",
       "    .dataframe tbody tr th {\n",
       "        vertical-align: top;\n",
       "    }\n",
       "\n",
       "    .dataframe thead th {\n",
       "        text-align: right;\n",
       "    }\n",
       "</style>\n",
       "<table border=\"1\" class=\"dataframe\">\n",
       "  <thead>\n",
       "    <tr style=\"text-align: right;\">\n",
       "      <th></th>\n",
       "      <th>link</th>\n",
       "      <th>address</th>\n",
       "      <th>square_price</th>\n",
       "      <th>Area</th>\n",
       "      <th>price_start_from</th>\n",
       "    </tr>\n",
       "  </thead>\n",
       "  <tbody>\n",
       "    <tr>\n",
       "      <th>ЖК RAMS EVO</th>\n",
       "      <td>https://krisha.kz/complex/show/almaty/ramsevo/</td>\n",
       "      <td>Алматы, Алмалинский р-н, пересечение Ауэзова и...</td>\n",
       "      <td>tg</td>\n",
       "      <td>None</td>\n",
       "      <td>None</td>\n",
       "    </tr>\n",
       "    <tr>\n",
       "      <th>ЖК RAMS CITY</th>\n",
       "      <td>https://krisha.kz/complex/show/almaty/ramscity/</td>\n",
       "      <td>Алматы, Бостандыкский р-н, ул. Жандосова, 94А</td>\n",
       "      <td>590000²tg</td>\n",
       "      <td>2-комн. 51.4 м²</td>\n",
       "      <td>38373441</td>\n",
       "    </tr>\n",
       "    <tr>\n",
       "      <th>ЖК RAMS SAIAHAT</th>\n",
       "      <td>https://krisha.kz/complex/show/almaty/ramssaia...</td>\n",
       "      <td>Алматы, Жетысуский р-н, пересечении улиц Райым...</td>\n",
       "      <td>595000²tg</td>\n",
       "      <td>1-комн. 37.6 м²</td>\n",
       "      <td>25229600</td>\n",
       "    </tr>\n",
       "    <tr>\n",
       "      <th>ЖК Столичный 2</th>\n",
       "      <td>https://krisha.kz/complex/show/nur-sultan/stol...</td>\n",
       "      <td>Астана, Сарыарка р-н, ул. Абая, 10/2</td>\n",
       "      <td>400000²tg</td>\n",
       "      <td>1-комн. 39.4 м²</td>\n",
       "      <td>16548000</td>\n",
       "    </tr>\n",
       "    <tr>\n",
       "      <th>ЖК Qarasai Park</th>\n",
       "      <td>https://krisha.kz/complex/show/almaty/qarasaip...</td>\n",
       "      <td>Алматы, Алмалинский р-н, ул. Карасай батыра, 1...</td>\n",
       "      <td>645000²tg</td>\n",
       "      <td>1-комн. 59.2 м²</td>\n",
       "      <td>56240000</td>\n",
       "    </tr>\n",
       "  </tbody>\n",
       "</table>\n",
       "</div>"
      ],
      "text/plain": [
       "                                                              link  \\\n",
       "ЖК RAMS EVO         https://krisha.kz/complex/show/almaty/ramsevo/   \n",
       "ЖК RAMS CITY       https://krisha.kz/complex/show/almaty/ramscity/   \n",
       "ЖК RAMS SAIAHAT  https://krisha.kz/complex/show/almaty/ramssaia...   \n",
       "ЖК Столичный 2   https://krisha.kz/complex/show/nur-sultan/stol...   \n",
       "ЖК Qarasai Park  https://krisha.kz/complex/show/almaty/qarasaip...   \n",
       "\n",
       "                                                           address  \\\n",
       "ЖК RAMS EVO      Алматы, Алмалинский р-н, пересечение Ауэзова и...   \n",
       "ЖК RAMS CITY         Алматы, Бостандыкский р-н, ул. Жандосова, 94А   \n",
       "ЖК RAMS SAIAHAT  Алматы, Жетысуский р-н, пересечении улиц Райым...   \n",
       "ЖК Столичный 2                Астана, Сарыарка р-н, ул. Абая, 10/2   \n",
       "ЖК Qarasai Park  Алматы, Алмалинский р-н, ул. Карасай батыра, 1...   \n",
       "\n",
       "                square_price             Area price_start_from  \n",
       "ЖК RAMS EVO               tg             None             None  \n",
       "ЖК RAMS CITY       590000²tg  2-комн. 51.4 м²         38373441  \n",
       "ЖК RAMS SAIAHAT    595000²tg  1-комн. 37.6 м²         25229600  \n",
       "ЖК Столичный 2     400000²tg  1-комн. 39.4 м²         16548000  \n",
       "ЖК Qarasai Park    645000²tg  1-комн. 59.2 м²         56240000  "
      ]
     },
     "execution_count": 36,
     "metadata": {},
     "output_type": "execute_result"
    }
   ],
   "source": [
    "import pandas as pd\n",
    "\n",
    "df = pd.DataFrame(flat_dict)\n",
    "\n",
    "df = df.transpose()\n",
    "\n",
    "pd.set_option('display.max.rows', 834)\n",
    "\n",
    "df.head()"
   ]
  },
  {
   "cell_type": "markdown",
   "id": "c5ed00b5",
   "metadata": {},
   "source": [
    "<div class='alert alert-block alert-warning' style=\"font-size: 20pt; font-family: cursive; color: black\"> \n",
    "    <b> <center> Data Cleaning</center> </b>\n",
    "</div>"
   ]
  },
  {
   "cell_type": "code",
   "execution_count": 37,
   "id": "2f979d5f",
   "metadata": {},
   "outputs": [
    {
     "data": {
      "text/html": [
       "<div>\n",
       "<style scoped>\n",
       "    .dataframe tbody tr th:only-of-type {\n",
       "        vertical-align: middle;\n",
       "    }\n",
       "\n",
       "    .dataframe tbody tr th {\n",
       "        vertical-align: top;\n",
       "    }\n",
       "\n",
       "    .dataframe thead th {\n",
       "        text-align: right;\n",
       "    }\n",
       "</style>\n",
       "<table border=\"1\" class=\"dataframe\">\n",
       "  <thead>\n",
       "    <tr style=\"text-align: right;\">\n",
       "      <th></th>\n",
       "      <th>address</th>\n",
       "      <th>Area</th>\n",
       "      <th>square_price</th>\n",
       "      <th>price_start_from</th>\n",
       "      <th>link</th>\n",
       "    </tr>\n",
       "  </thead>\n",
       "  <tbody>\n",
       "    <tr>\n",
       "      <th>ЖК RAMS EVO</th>\n",
       "      <td>Алматы, Алмалинский р-н, пересечение Ауэзова и...</td>\n",
       "      <td>None</td>\n",
       "      <td>NaN</td>\n",
       "      <td>None</td>\n",
       "      <td>https://krisha.kz/complex/show/almaty/ramsevo/</td>\n",
       "    </tr>\n",
       "    <tr>\n",
       "      <th>ЖК RAMS CITY</th>\n",
       "      <td>Алматы, Бостандыкский р-н, ул. Жандосова, 94А</td>\n",
       "      <td>2-комн. 51.4 м²</td>\n",
       "      <td>590000</td>\n",
       "      <td>38373441</td>\n",
       "      <td>https://krisha.kz/complex/show/almaty/ramscity/</td>\n",
       "    </tr>\n",
       "    <tr>\n",
       "      <th>ЖК RAMS SAIAHAT</th>\n",
       "      <td>Алматы, Жетысуский р-н, пересечении улиц Райым...</td>\n",
       "      <td>1-комн. 37.6 м²</td>\n",
       "      <td>595000</td>\n",
       "      <td>25229600</td>\n",
       "      <td>https://krisha.kz/complex/show/almaty/ramssaia...</td>\n",
       "    </tr>\n",
       "    <tr>\n",
       "      <th>ЖК Столичный 2</th>\n",
       "      <td>Астана, Сарыарка р-н, ул. Абая, 10/2</td>\n",
       "      <td>1-комн. 39.4 м²</td>\n",
       "      <td>400000</td>\n",
       "      <td>16548000</td>\n",
       "      <td>https://krisha.kz/complex/show/nur-sultan/stol...</td>\n",
       "    </tr>\n",
       "    <tr>\n",
       "      <th>ЖК Qarasai Park</th>\n",
       "      <td>Алматы, Алмалинский р-н, ул. Карасай батыра, 1...</td>\n",
       "      <td>1-комн. 59.2 м²</td>\n",
       "      <td>645000</td>\n",
       "      <td>56240000</td>\n",
       "      <td>https://krisha.kz/complex/show/almaty/qarasaip...</td>\n",
       "    </tr>\n",
       "  </tbody>\n",
       "</table>\n",
       "</div>"
      ],
      "text/plain": [
       "                                                           address  \\\n",
       "ЖК RAMS EVO      Алматы, Алмалинский р-н, пересечение Ауэзова и...   \n",
       "ЖК RAMS CITY         Алматы, Бостандыкский р-н, ул. Жандосова, 94А   \n",
       "ЖК RAMS SAIAHAT  Алматы, Жетысуский р-н, пересечении улиц Райым...   \n",
       "ЖК Столичный 2                Астана, Сарыарка р-н, ул. Абая, 10/2   \n",
       "ЖК Qarasai Park  Алматы, Алмалинский р-н, ул. Карасай батыра, 1...   \n",
       "\n",
       "                            Area square_price price_start_from  \\\n",
       "ЖК RAMS EVO                 None          NaN             None   \n",
       "ЖК RAMS CITY     2-комн. 51.4 м²       590000         38373441   \n",
       "ЖК RAMS SAIAHAT  1-комн. 37.6 м²       595000         25229600   \n",
       "ЖК Столичный 2   1-комн. 39.4 м²       400000         16548000   \n",
       "ЖК Qarasai Park  1-комн. 59.2 м²       645000         56240000   \n",
       "\n",
       "                                                              link  \n",
       "ЖК RAMS EVO         https://krisha.kz/complex/show/almaty/ramsevo/  \n",
       "ЖК RAMS CITY       https://krisha.kz/complex/show/almaty/ramscity/  \n",
       "ЖК RAMS SAIAHAT  https://krisha.kz/complex/show/almaty/ramssaia...  \n",
       "ЖК Столичный 2   https://krisha.kz/complex/show/nur-sultan/stol...  \n",
       "ЖК Qarasai Park  https://krisha.kz/complex/show/almaty/qarasaip...  "
      ]
     },
     "execution_count": 37,
     "metadata": {},
     "output_type": "execute_result"
    }
   ],
   "source": [
    "import re \n",
    "\n",
    "df['square_price'] = df['square_price'].astype(str)\n",
    "# Use regular expressions to extract the numeric part\n",
    "df['square_price'] = df['square_price'].str.extract(r'(\\d+)')\n",
    "\n",
    "new_order = ['Area', 'square_price', 'price_start_from', 'link', 'address']\n",
    "\n",
    "df = df[new_order]\n",
    "\n",
    "df.head()"
   ]
  },
  {
   "cell_type": "code",
   "execution_count": 39,
   "id": "31cf33e9",
   "metadata": {},
   "outputs": [],
   "source": [
    "# Save to CSV\n",
    "df.to_csv('krishaKZ.csv', index=False)  # Set index=False to exclude the DataFrame index in the CSV file"
   ]
  }
 ],
 "metadata": {
  "kernelspec": {
   "display_name": "Python 3 (ipykernel)",
   "language": "python",
   "name": "python3"
  },
  "language_info": {
   "codemirror_mode": {
    "name": "ipython",
    "version": 3
   },
   "file_extension": ".py",
   "mimetype": "text/x-python",
   "name": "python",
   "nbconvert_exporter": "python",
   "pygments_lexer": "ipython3",
   "version": "3.11.4"
  }
 },
 "nbformat": 4,
 "nbformat_minor": 5
}
