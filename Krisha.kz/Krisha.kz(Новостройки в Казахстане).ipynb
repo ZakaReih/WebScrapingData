{
 "cells": [
  {
   "cell_type": "markdown",
   "id": "4c54e4e3",
   "metadata": {},
   "source": [
    "<div class='alert alert-block alert-warning' style=\"font-size: 20pt; font-family: cursive; color: #08415C\"> \n",
    "    <b> <center> Web Scraping Data</center> </b>\n",
    "</div>"
   ]
  },
  {
   "cell_type": "markdown",
   "id": "0e5ad81b",
   "metadata": {},
   "source": [
    "<div style=\"font-size: 13pt; font-family: verdana; color: #08415C\"> \n",
    "    The dataset has a total of 6 columns.\n",
    "    <ul>\n",
    "        <li>name - name of the residential complex</li>\n",
    "        <li>link - link from the site</li>\n",
    "        <li>address - address of the residential complex</li>    \n",
    "        <li>square_price - price per square meter</li>\n",
    "        <li>Area - the area of the apartment</li>\n",
    "        <li>price_start_from - inital prices for an apartment</li>\n",
    "    </ul>\n",
    "</div>"
   ]
  },
  {
   "cell_type": "code",
   "execution_count": 50,
   "id": "479a358b",
   "metadata": {},
   "outputs": [],
   "source": [
    "import requests\n",
    "from bs4 import BeautifulSoup\n",
    "from time import sleep"
   ]
  },
  {
   "cell_type": "code",
   "execution_count": 51,
   "id": "307d08d9",
   "metadata": {},
   "outputs": [],
   "source": [
    "url = \"https://krisha.kz/complex/search/\"\n",
    "\n",
    "r = requests.get(url)"
   ]
  },
  {
   "cell_type": "code",
   "execution_count": 52,
   "id": "0c0415ea",
   "metadata": {},
   "outputs": [],
   "source": [
    "soup = BeautifulSoup(r.text, 'html')"
   ]
  },
  {
   "cell_type": "code",
   "execution_count": 53,
   "id": "070dfbac",
   "metadata": {
    "scrolled": true
   },
   "outputs": [
    {
     "data": {
      "text/plain": [
       "<div class=\"complex-card complex-card--not-empty complex-card--with-result\" data-complex-alias=\"almaty/ramsevo\" data-complex-id=\"16937355\" data-complex-region=\"Алматы\" data-filter-city=\"2\" data-free-call-visibility=\"\" data-has-buttons=\"1\" data-is-free=\"\" data-name=\"RAMS EVO\" data-work-time-from=\"09:00\" data-work-time-to=\"19:00\">\n",
       "<div class=\"complex-card__state\">\n",
       "                Строящийся\n",
       "            </div>\n",
       "<a class=\"complex-card__main-block complex-card__main-block--hypothec\" href=\"/complex/show/almaty/ramsevo/\" target=\"_blank\">\n",
       "<div class=\"complex-card__child-block flats\">\n",
       "<div class=\"complex-card__info\">\n",
       "<div class=\"complex-card__header\"><picture>\n",
       "<img alt=\"RAMS EVO\" loading=\"lazy\" src=\"https://krisha-photos.kcdn.online/07/f0fe5bfaf6daca6c0e8a2c88a54034807d793f/photo-448x280.jpg\"/>\n",
       "</picture>\n",
       "</div>\n",
       "</div>\n",
       "<div class=\"complex-card__content\">\n",
       "<span class=\"credit-badge credit-badge--hypothec-full\">\n",
       "<i class=\"credit-badge__icon fi-home-bordered\"></i>\n",
       "                                    Ипотека\n",
       "                                </span>\n",
       "<span class=\"credit-badge credit-badge--installment\">\n",
       "                                    0% Рассрочка\n",
       "                                </span>\n",
       "<div class=\"complex-card__price-wrapper\">\n",
       "<p class=\"complex-card__square-price\">\n",
       "                                    от 630 000 <span class=\"currency-sign offer__currency\">〒</span> за м²\n",
       "                                </p>\n",
       "<button class=\"complex-card__favorite-btn js-fav-complex-btn\" data-alias=\"almaty/ramsevo\" data-id=\"16937355\" data-source=\"\" type=\"button\">\n",
       "<i class=\"complex-card__favorite-icon\"></i>\n",
       "</button></div>\n",
       "<p class=\"complex-card__title\">\n",
       "                            ЖК RAMS EVO\n",
       "                        </p>\n",
       "<p class=\"complex-card__address\">\n",
       "                            Алматы, Алмалинский р-н, пересечение Ауэзова и Гоголя\n",
       "                        </p>\n",
       "<p class=\"complex-card__layout-nb\">\n",
       "                                22 квартиры\n",
       "                            </p>\n",
       "<div class=\"complex-card__prices\">\n",
       "<div class=\"complex-card__prices-details\">\n",
       "<div class=\"complex-card__price-item complex-card__price-item--result\">\n",
       "<span>1-комн. 41.9 м²</span>\n",
       "<span class=\"complex-flat-price\">от 35 728 498 <span class=\"currency-sign offer__currency\">〒</span></span>\n",
       "</div>\n",
       "<div class=\"complex-card__price-item complex-card__price-item--result\">\n",
       "<span>2-комн. 52.7 м²</span>\n",
       "<span class=\"complex-flat-price\">от 42 454 351 <span class=\"currency-sign offer__currency\">〒</span></span>\n",
       "</div>\n",
       "<div class=\"complex-card__price-item complex-card__price-item--result\">\n",
       "<span>3-комн. 81.4 м²</span>\n",
       "<span class=\"complex-flat-price\">от 87 163 014 <span class=\"currency-sign offer__currency\">〒</span></span>\n",
       "</div>\n",
       "</div>\n",
       "</div>\n",
       "</div>\n",
       "</div>\n",
       "</a>\n",
       "<div class=\"complex-card__phone\">\n",
       "<div class=\"complex-card__phone-block\">\n",
       "<div class=\"complex-card__phone-preview\" data-url-alias=\"almaty/ramsevo\">\n",
       "<span>+7 778 </span>\n",
       "<a class=\"show-phone\">\n",
       "                                    Показать телефон\n",
       "                                </a>\n",
       "</div>\n",
       "<span class=\"complex-card__full-phone\"></span>\n",
       "</div>\n",
       "<button class=\"complex-card__order-call btn btn-block\" data-alias=\"almaty/ramsevo\" data-id=\"16937355\" data-layout=\"0\" data-name=\"RAMS EVO\" type=\"button\">\n",
       "                        Заказать обратный звонок\n",
       "                    </button>\n",
       "</div>\n",
       "</div>"
      ]
     },
     "execution_count": 53,
     "metadata": {},
     "output_type": "execute_result"
    }
   ],
   "source": [
    "main_card = soup.find('div', class_='complex-card complex-card--not-empty complex-card--with-result')\n",
    "main_card"
   ]
  },
  {
   "cell_type": "code",
   "execution_count": 54,
   "id": "4de1ac47",
   "metadata": {
    "scrolled": true
   },
   "outputs": [
    {
     "data": {
      "text/plain": [
       "'https://krisha.kz/complex/show/almaty/ramsevo/'"
      ]
     },
     "execution_count": 54,
     "metadata": {},
     "output_type": "execute_result"
    }
   ],
   "source": [
    "link = 'https://krisha.kz' + main_card.find('a', class_=\"complex-card__main-block complex-card__main-block--hypothec\").get(\"href\")\n",
    "link"
   ]
  },
  {
   "cell_type": "code",
   "execution_count": 55,
   "id": "2bfed3f5",
   "metadata": {},
   "outputs": [
    {
     "data": {
      "text/plain": [
       "'ЖК RAMS EVO'"
      ]
     },
     "execution_count": 55,
     "metadata": {},
     "output_type": "execute_result"
    }
   ],
   "source": [
    "name = main_card.find('a', class_=\"complex-card__main-block complex-card__main-block--hypothec\").find('p', class_='complex-card__title').text.strip()\n",
    "name"
   ]
  },
  {
   "cell_type": "code",
   "execution_count": 56,
   "id": "6eb5cc0d",
   "metadata": {},
   "outputs": [
    {
     "data": {
      "text/plain": [
       "'Алматы, Алмалинский р-н, пересечение Ауэзова и Гоголя'"
      ]
     },
     "execution_count": 56,
     "metadata": {},
     "output_type": "execute_result"
    }
   ],
   "source": [
    "address = main_card.find('a', class_=\"complex-card__main-block complex-card__main-block--hypothec\").find('p', class_='complex-card__address').text.strip()\n",
    "address"
   ]
  },
  {
   "cell_type": "code",
   "execution_count": 57,
   "id": "d00fbaec",
   "metadata": {},
   "outputs": [
    {
     "data": {
      "text/plain": [
       "'630000²tg'"
      ]
     },
     "execution_count": 57,
     "metadata": {},
     "output_type": "execute_result"
    }
   ],
   "source": [
    "square_price = ''.join(filter(str.isdigit, main_card.find('a', class_=\"complex-card__main-block complex-card__main-block--hypothec\").find('p', class_='complex-card__square-price').text)) + 'tg'\n",
    "square_price"
   ]
  },
  {
   "cell_type": "code",
   "execution_count": 58,
   "id": "8acfe909",
   "metadata": {},
   "outputs": [
    {
     "data": {
      "text/plain": [
       "'1-комн. 41.9 м²'"
      ]
     },
     "execution_count": 58,
     "metadata": {},
     "output_type": "execute_result"
    }
   ],
   "source": [
    "Area = main_card.find('a', class_=\"complex-card__main-block complex-card__main-block--hypothec\").find('div', class_='complex-card__price-item complex-card__price-item--result').find('span').text\n",
    "Area"
   ]
  },
  {
   "cell_type": "code",
   "execution_count": 59,
   "id": "61cf9c3a",
   "metadata": {},
   "outputs": [
    {
     "data": {
      "text/plain": [
       "'35728498'"
      ]
     },
     "execution_count": 59,
     "metadata": {},
     "output_type": "execute_result"
    }
   ],
   "source": [
    "price_start_from = ''.join(filter(str.isdigit, main_card.find('a', class_=\"complex-card__main-block complex-card__main-block--hypothec\").find('span', class_='complex-flat-price').text))\n",
    "price_start_from"
   ]
  },
  {
   "cell_type": "code",
   "execution_count": 60,
   "id": "4599d693",
   "metadata": {},
   "outputs": [
    {
     "data": {
      "text/plain": [
       "35728498"
      ]
     },
     "execution_count": 60,
     "metadata": {},
     "output_type": "execute_result"
    }
   ],
   "source": [
    "text = price_start_from\n",
    "numeric_value = ''.join(filter(str.isdigit, text))\n",
    "price_start_from = int(numeric_value)\n",
    "price_start_from"
   ]
  },
  {
   "cell_type": "code",
   "execution_count": 61,
   "id": "76f06eff",
   "metadata": {},
   "outputs": [
    {
     "data": {
      "text/plain": [
       "12"
      ]
     },
     "execution_count": 61,
     "metadata": {},
     "output_type": "execute_result"
    }
   ],
   "source": [
    "flats = soup.findAll('div', class_='complex-card complex-card--not-empty complex-card--with-result')\n",
    "len(flats)"
   ]
  },
  {
   "cell_type": "code",
   "execution_count": 62,
   "id": "562c92dd",
   "metadata": {
    "scrolled": true
   },
   "outputs": [
    {
     "name": "stdout",
     "output_type": "stream",
     "text": [
      "Web scraping page: 1\n",
      "Web scraping page: 2\n",
      "Web scraping page: 3\n",
      "Web scraping page: 4\n",
      "Web scraping page: 5\n",
      "Web scraping page: 6\n",
      "Web scraping page: 7\n",
      "Web scraping page: 8\n",
      "Web scraping page: 9\n",
      "Web scraping page: 10\n",
      "Web scraping page: 11\n",
      "Web scraping page: 12\n",
      "Web scraping page: 13\n",
      "Web scraping page: 14\n",
      "Web scraping page: 15\n",
      "Web scraping page: 16\n",
      "Web scraping page: 17\n",
      "Web scraping page: 18\n",
      "Web scraping page: 19\n",
      "Web scraping page: 20\n",
      "Web scraping page: 21\n",
      "Web scraping page: 22\n",
      "Web scraping page: 23\n",
      "Web scraping page: 24\n",
      "Web scraping page: 25\n",
      "Web scraping page: 26\n",
      "Web scraping page: 27\n",
      "Web scraping page: 28\n",
      "Web scraping page: 29\n",
      "Web scraping page: 30\n",
      "Web scraping page: 31\n",
      "Web scraping page: 32\n",
      "Web scraping page: 33\n",
      "Web scraping page: 34\n",
      "Web scraping page: 35\n",
      "Web scraping page: 36\n",
      "Web scraping page: 37\n",
      "Web scraping page: 38\n",
      "Web scraping page: 39\n",
      "Web scraping page: 40\n",
      "Web scraping page: 41\n",
      "Web scraping page: 42\n",
      "Web scraping page: 43\n",
      "Web scraping page: 44\n",
      "Web scraping page: 45\n",
      "Web scraping page: 46\n",
      "Web scraping page: 47\n",
      "Web scraping page: 48\n",
      "Web scraping page: 49\n",
      "Web scraping page: 50\n",
      "Web scraping page: 51\n",
      "Web scraping page: 52\n",
      "Web scraping page: 53\n",
      "Web scraping page: 54\n",
      "Web scraping page: 55\n",
      "Web scraping page: 56\n",
      "Web scraping page: 57\n",
      "Web scraping page: 58\n",
      "Web scraping page: 59\n",
      "Web scraping page: 60\n",
      "Web scraping page: 61\n",
      "Web scraping page: 62\n",
      "Web scraping page: 63\n",
      "Web scraping page: 64\n",
      "Web scraping page: 65\n",
      "Web scraping page: 66\n",
      "Web scraping page: 67\n",
      "Web scraping page: 68\n",
      "Web scraping page: 69\n",
      "Web scraping page: 70\n",
      "Web scraping page: 71\n",
      "Web scraping page: 72\n",
      "Web scraping page: 73\n",
      "Web scraping page: 74\n",
      "Web scraping page: 75\n",
      "Web scraping page: 76\n",
      "Web scraping page: 77\n",
      "Web scraping page: 78\n",
      "Web scraping page: 79\n",
      "Web scraping page: 80\n",
      "Web scraping page: 81\n",
      "Web scraping page: 82\n",
      "Web scraping page: 83\n",
      "Web scraping page: 84\n",
      "Web scraping page: 85\n",
      "Web scraping page: 86\n",
      "Web scraping page: 87\n"
     ]
    }
   ],
   "source": [
    "flat_dict = {}\n",
    "\n",
    "for p in range(1, 88):\n",
    "    \n",
    "    print('Web scraping page:', p)\n",
    "    \n",
    "    url = f\"https://krisha.kz/complex/search/ramscity/?state[]=1&state[]=2&page={p}\"\n",
    "    r = requests.get(url)\n",
    "    sleep(1)\n",
    "    soup = BeautifulSoup(r.text, 'lxml')\n",
    "    \n",
    "    flats = soup.findAll('a', class_=\"complex-card__main-block complex-card__main-block--hypothec\")\n",
    "    \n",
    "    \n",
    "\n",
    "    for flat in flats:\n",
    "        \n",
    "        flat_name = flat.find('p', class_='complex-card__title').text.strip()\n",
    "        flat_dict[flat_name] = {}  # Create a nested dictionary for each flat\n",
    "        \n",
    "        try:\n",
    "            link = 'https://krisha.kz' + str(flat.get(\"href\"))\n",
    "            flat_dict[flat_name]['link'] = link\n",
    "        except AttributeError:\n",
    "            flat_dict[flat_name]['link'] = None\n",
    "            \n",
    "        try:\n",
    "            address_element = flat.find('p', class_='complex-card__address')\n",
    "            flat_dict[flat_name]['address'] = address_element.text.strip()\n",
    "        except AttributeError:\n",
    "            flat_dict[flat_name]['address'] = None\n",
    "\n",
    "        try:\n",
    "            square_price_element = flat.find('p', class_='complex-card__square-price')\n",
    "            square_price = ''.join(filter(str.isdigit, square_price_element.text)) + 'tg'\n",
    "            flat_dict[flat_name]['square_price'] = square_price\n",
    "        except AttributeError:\n",
    "            flat_dict[flat_name]['square_price'] = None\n",
    "\n",
    "        try:\n",
    "            area_element = flat.find('div', class_='complex-card__price-item complex-card__price-item--result').find('span')\n",
    "            flat_dict[flat_name]['Area'] = area_element.text\n",
    "        except AttributeError:\n",
    "            flat_dict[flat_name]['Area'] = None\n",
    "\n",
    "        try:\n",
    "            price_element = flat.find('span', class_='complex-flat-price')\n",
    "            price_start_from = ''.join(filter(str.isdigit, price_element.text))\n",
    "            flat_dict[flat_name]['price_start_from'] = price_start_from\n",
    "        except AttributeError:\n",
    "            flat_dict[flat_name]['price_start_from'] = None\n",
    "\n",
    "    \n",
    "\n",
    "# Now, the 'data' dictionary contains data for each flat with possible missing values set to None\n"
   ]
  },
  {
   "cell_type": "code",
   "execution_count": 63,
   "id": "17707703",
   "metadata": {},
   "outputs": [
    {
     "data": {
      "text/plain": [
       "800"
      ]
     },
     "execution_count": 63,
     "metadata": {},
     "output_type": "execute_result"
    }
   ],
   "source": [
    "len(flat_dict)"
   ]
  },
  {
   "cell_type": "code",
   "execution_count": 64,
   "id": "2994647f",
   "metadata": {},
   "outputs": [
    {
     "data": {
      "text/html": [
       "<div>\n",
       "<style scoped>\n",
       "    .dataframe tbody tr th:only-of-type {\n",
       "        vertical-align: middle;\n",
       "    }\n",
       "\n",
       "    .dataframe tbody tr th {\n",
       "        vertical-align: top;\n",
       "    }\n",
       "\n",
       "    .dataframe thead th {\n",
       "        text-align: right;\n",
       "    }\n",
       "</style>\n",
       "<table border=\"1\" class=\"dataframe\">\n",
       "  <thead>\n",
       "    <tr style=\"text-align: right;\">\n",
       "      <th></th>\n",
       "      <th>link</th>\n",
       "      <th>address</th>\n",
       "      <th>square_price</th>\n",
       "      <th>Area</th>\n",
       "      <th>price_start_from</th>\n",
       "    </tr>\n",
       "  </thead>\n",
       "  <tbody>\n",
       "    <tr>\n",
       "      <th>ЖК RAMS EVO</th>\n",
       "      <td>https://krisha.kz/complex/show/almaty/ramsevo/</td>\n",
       "      <td>Алматы, Алмалинский р-н, пересечение Ауэзова и...</td>\n",
       "      <td>630000²tg</td>\n",
       "      <td>1-комн. 41.9 м²</td>\n",
       "      <td>35728498</td>\n",
       "    </tr>\n",
       "    <tr>\n",
       "      <th>ЖК RAMS CITY</th>\n",
       "      <td>https://krisha.kz/complex/show/almaty/ramscity/</td>\n",
       "      <td>Алматы, Бостандыкский р-н, ул. Жандосова, 94А</td>\n",
       "      <td>590000²tg</td>\n",
       "      <td>3-комн. 76.4 м²</td>\n",
       "      <td>54014800</td>\n",
       "    </tr>\n",
       "    <tr>\n",
       "      <th>ЖК RAMS SAIAHAT</th>\n",
       "      <td>https://krisha.kz/complex/show/almaty/ramssaia...</td>\n",
       "      <td>Алматы, Жетысуский р-н, пересечении улиц Райым...</td>\n",
       "      <td>595000²tg</td>\n",
       "      <td>1-комн. 37.6 м²</td>\n",
       "      <td>25229600</td>\n",
       "    </tr>\n",
       "    <tr>\n",
       "      <th>ЖК Столичный 2</th>\n",
       "      <td>https://krisha.kz/complex/show/nur-sultan/stol...</td>\n",
       "      <td>Астана, Сарыарка р-н, ул. Абая, 10/2</td>\n",
       "      <td>400000²tg</td>\n",
       "      <td>1-комн. 39.4 м²</td>\n",
       "      <td>16548000</td>\n",
       "    </tr>\n",
       "    <tr>\n",
       "      <th>ЖК Горное Солнце</th>\n",
       "      <td>https://krisha.kz/complex/show/gornoe-solnce/</td>\n",
       "      <td>Алматы, Бостандыкский р-н, Проспект Аль-Фараби...</td>\n",
       "      <td>960000²tg</td>\n",
       "      <td>2-комн. 75.93 м²</td>\n",
       "      <td>72864000</td>\n",
       "    </tr>\n",
       "  </tbody>\n",
       "</table>\n",
       "</div>"
      ],
      "text/plain": [
       "                                                               link  \\\n",
       "ЖК RAMS EVO          https://krisha.kz/complex/show/almaty/ramsevo/   \n",
       "ЖК RAMS CITY        https://krisha.kz/complex/show/almaty/ramscity/   \n",
       "ЖК RAMS SAIAHAT   https://krisha.kz/complex/show/almaty/ramssaia...   \n",
       "ЖК Столичный 2    https://krisha.kz/complex/show/nur-sultan/stol...   \n",
       "ЖК Горное Солнце      https://krisha.kz/complex/show/gornoe-solnce/   \n",
       "\n",
       "                                                            address  \\\n",
       "ЖК RAMS EVO       Алматы, Алмалинский р-н, пересечение Ауэзова и...   \n",
       "ЖК RAMS CITY          Алматы, Бостандыкский р-н, ул. Жандосова, 94А   \n",
       "ЖК RAMS SAIAHAT   Алматы, Жетысуский р-н, пересечении улиц Райым...   \n",
       "ЖК Столичный 2                 Астана, Сарыарка р-н, ул. Абая, 10/2   \n",
       "ЖК Горное Солнце  Алматы, Бостандыкский р-н, Проспект Аль-Фараби...   \n",
       "\n",
       "                 square_price              Area price_start_from  \n",
       "ЖК RAMS EVO         630000²tg   1-комн. 41.9 м²         35728498  \n",
       "ЖК RAMS CITY        590000²tg   3-комн. 76.4 м²         54014800  \n",
       "ЖК RAMS SAIAHAT     595000²tg   1-комн. 37.6 м²         25229600  \n",
       "ЖК Столичный 2      400000²tg   1-комн. 39.4 м²         16548000  \n",
       "ЖК Горное Солнце    960000²tg  2-комн. 75.93 м²         72864000  "
      ]
     },
     "execution_count": 64,
     "metadata": {},
     "output_type": "execute_result"
    }
   ],
   "source": [
    "import pandas as pd\n",
    "\n",
    "df = pd.DataFrame(flat_dict)\n",
    "\n",
    "df = df.transpose()\n",
    "\n",
    "pd.set_option('display.max.rows', 834)\n",
    "\n",
    "df.head()"
   ]
  },
  {
   "cell_type": "markdown",
   "id": "8d86f178",
   "metadata": {},
   "source": [
    "<div class='alert alert-block alert-warning' style=\"font-size: 20pt; font-family: cursive; color: black\"> \n",
    "    <b> <center><div class='alert alert-block alert-warning' style=\"font-size: 20pt; font-family: cursive; color: black\"> \n",
    "    <b> <center>correction of the price column</center> </b>\n",
    "</div></center> </b>\n",
    "</div>"
   ]
  },
  {
   "cell_type": "code",
   "execution_count": 65,
   "id": "2f979d5f",
   "metadata": {},
   "outputs": [
    {
     "data": {
      "text/html": [
       "<div>\n",
       "<style scoped>\n",
       "    .dataframe tbody tr th:only-of-type {\n",
       "        vertical-align: middle;\n",
       "    }\n",
       "\n",
       "    .dataframe tbody tr th {\n",
       "        vertical-align: top;\n",
       "    }\n",
       "\n",
       "    .dataframe thead th {\n",
       "        text-align: right;\n",
       "    }\n",
       "</style>\n",
       "<table border=\"1\" class=\"dataframe\">\n",
       "  <thead>\n",
       "    <tr style=\"text-align: right;\">\n",
       "      <th></th>\n",
       "      <th>Area</th>\n",
       "      <th>square_price</th>\n",
       "      <th>price_start_from</th>\n",
       "      <th>link</th>\n",
       "      <th>address</th>\n",
       "    </tr>\n",
       "  </thead>\n",
       "  <tbody>\n",
       "    <tr>\n",
       "      <th>ЖК RAMS EVO</th>\n",
       "      <td>1-комн. 41.9 м²</td>\n",
       "      <td>630000</td>\n",
       "      <td>35728498</td>\n",
       "      <td>https://krisha.kz/complex/show/almaty/ramsevo/</td>\n",
       "      <td>Алматы, Алмалинский р-н, пересечение Ауэзова и...</td>\n",
       "    </tr>\n",
       "    <tr>\n",
       "      <th>ЖК RAMS CITY</th>\n",
       "      <td>3-комн. 76.4 м²</td>\n",
       "      <td>590000</td>\n",
       "      <td>54014800</td>\n",
       "      <td>https://krisha.kz/complex/show/almaty/ramscity/</td>\n",
       "      <td>Алматы, Бостандыкский р-н, ул. Жандосова, 94А</td>\n",
       "    </tr>\n",
       "    <tr>\n",
       "      <th>ЖК RAMS SAIAHAT</th>\n",
       "      <td>1-комн. 37.6 м²</td>\n",
       "      <td>595000</td>\n",
       "      <td>25229600</td>\n",
       "      <td>https://krisha.kz/complex/show/almaty/ramssaia...</td>\n",
       "      <td>Алматы, Жетысуский р-н, пересечении улиц Райым...</td>\n",
       "    </tr>\n",
       "    <tr>\n",
       "      <th>ЖК Столичный 2</th>\n",
       "      <td>1-комн. 39.4 м²</td>\n",
       "      <td>400000</td>\n",
       "      <td>16548000</td>\n",
       "      <td>https://krisha.kz/complex/show/nur-sultan/stol...</td>\n",
       "      <td>Астана, Сарыарка р-н, ул. Абая, 10/2</td>\n",
       "    </tr>\n",
       "    <tr>\n",
       "      <th>ЖК Горное Солнце</th>\n",
       "      <td>2-комн. 75.93 м²</td>\n",
       "      <td>960000</td>\n",
       "      <td>72864000</td>\n",
       "      <td>https://krisha.kz/complex/show/gornoe-solnce/</td>\n",
       "      <td>Алматы, Бостандыкский р-н, Проспект Аль-Фараби...</td>\n",
       "    </tr>\n",
       "  </tbody>\n",
       "</table>\n",
       "</div>"
      ],
      "text/plain": [
       "                              Area square_price price_start_from  \\\n",
       "ЖК RAMS EVO        1-комн. 41.9 м²       630000         35728498   \n",
       "ЖК RAMS CITY       3-комн. 76.4 м²       590000         54014800   \n",
       "ЖК RAMS SAIAHAT    1-комн. 37.6 м²       595000         25229600   \n",
       "ЖК Столичный 2     1-комн. 39.4 м²       400000         16548000   \n",
       "ЖК Горное Солнце  2-комн. 75.93 м²       960000         72864000   \n",
       "\n",
       "                                                               link  \\\n",
       "ЖК RAMS EVO          https://krisha.kz/complex/show/almaty/ramsevo/   \n",
       "ЖК RAMS CITY        https://krisha.kz/complex/show/almaty/ramscity/   \n",
       "ЖК RAMS SAIAHAT   https://krisha.kz/complex/show/almaty/ramssaia...   \n",
       "ЖК Столичный 2    https://krisha.kz/complex/show/nur-sultan/stol...   \n",
       "ЖК Горное Солнце      https://krisha.kz/complex/show/gornoe-solnce/   \n",
       "\n",
       "                                                            address  \n",
       "ЖК RAMS EVO       Алматы, Алмалинский р-н, пересечение Ауэзова и...  \n",
       "ЖК RAMS CITY          Алматы, Бостандыкский р-н, ул. Жандосова, 94А  \n",
       "ЖК RAMS SAIAHAT   Алматы, Жетысуский р-н, пересечении улиц Райым...  \n",
       "ЖК Столичный 2                 Астана, Сарыарка р-н, ул. Абая, 10/2  \n",
       "ЖК Горное Солнце  Алматы, Бостандыкский р-н, Проспект Аль-Фараби...  "
      ]
     },
     "execution_count": 65,
     "metadata": {},
     "output_type": "execute_result"
    }
   ],
   "source": [
    "import re \n",
    "\n",
    "df['square_price'] = df['square_price'].astype(str)\n",
    "# Use regular expressions to extract the numeric part\n",
    "df['square_price'] = df['square_price'].str.extract(r'(\\d+)')\n",
    "\n",
    "new_order = ['Area', 'square_price', 'price_start_from', 'link', 'address']\n",
    "\n",
    "df = df[new_order]\n",
    "\n",
    "df.head()"
   ]
  },
  {
   "cell_type": "code",
   "execution_count": 66,
   "id": "81cf0733",
   "metadata": {},
   "outputs": [
    {
     "name": "stderr",
     "output_type": "stream",
     "text": [
      "C:\\Users\\Зангар\\AppData\\Local\\Temp\\ipykernel_13556\\1694347654.py:2: FutureWarning: In a future version of pandas all arguments of StringMethods.split except for the argument 'pat' will be keyword-only.\n",
      "  df[['City', 'district', 'Street', 'house_number']] = df['address'].str.split(',', 3, expand=True)\n"
     ]
    }
   ],
   "source": [
    "# dividing the address into 4 columns\n",
    "df[['City', 'district', 'Street', 'house_number']] = df['address'].str.split(',', 3, expand=True)"
   ]
  },
  {
   "cell_type": "code",
   "execution_count": 67,
   "id": "31cf33e9",
   "metadata": {},
   "outputs": [],
   "source": [
    "# Save to CSV\n",
    "df.to_csv('krishaKZ.csv', index=False)  # Set index=False to exclude the DataFrame index in the CSV file"
   ]
  },
  {
   "cell_type": "code",
   "execution_count": 69,
   "id": "65e33a51",
   "metadata": {},
   "outputs": [
    {
     "data": {
      "text/html": [
       "<div>\n",
       "<style scoped>\n",
       "    .dataframe tbody tr th:only-of-type {\n",
       "        vertical-align: middle;\n",
       "    }\n",
       "\n",
       "    .dataframe tbody tr th {\n",
       "        vertical-align: top;\n",
       "    }\n",
       "\n",
       "    .dataframe thead th {\n",
       "        text-align: right;\n",
       "    }\n",
       "</style>\n",
       "<table border=\"1\" class=\"dataframe\">\n",
       "  <thead>\n",
       "    <tr style=\"text-align: right;\">\n",
       "      <th></th>\n",
       "      <th>Area</th>\n",
       "      <th>square_price</th>\n",
       "      <th>price_start_from</th>\n",
       "      <th>link</th>\n",
       "      <th>address</th>\n",
       "      <th>City</th>\n",
       "      <th>district</th>\n",
       "      <th>Street</th>\n",
       "      <th>house_number</th>\n",
       "    </tr>\n",
       "  </thead>\n",
       "  <tbody>\n",
       "    <tr>\n",
       "      <th>0</th>\n",
       "      <td>1-комн. 41.9 м²</td>\n",
       "      <td>630000.0</td>\n",
       "      <td>35728498.0</td>\n",
       "      <td>https://krisha.kz/complex/show/almaty/ramsevo/</td>\n",
       "      <td>Алматы, Алмалинский р-н, пересечение Ауэзова и...</td>\n",
       "      <td>Алматы</td>\n",
       "      <td>Алмалинский р-н</td>\n",
       "      <td>пересечение Ауэзова и Гоголя</td>\n",
       "      <td>NaN</td>\n",
       "    </tr>\n",
       "    <tr>\n",
       "      <th>1</th>\n",
       "      <td>3-комн. 76.4 м²</td>\n",
       "      <td>590000.0</td>\n",
       "      <td>54014800.0</td>\n",
       "      <td>https://krisha.kz/complex/show/almaty/ramscity/</td>\n",
       "      <td>Алматы, Бостандыкский р-н, ул. Жандосова, 94А</td>\n",
       "      <td>Алматы</td>\n",
       "      <td>Бостандыкский р-н</td>\n",
       "      <td>ул. Жандосова</td>\n",
       "      <td>94А</td>\n",
       "    </tr>\n",
       "    <tr>\n",
       "      <th>2</th>\n",
       "      <td>1-комн. 37.6 м²</td>\n",
       "      <td>595000.0</td>\n",
       "      <td>25229600.0</td>\n",
       "      <td>https://krisha.kz/complex/show/almaty/ramssaia...</td>\n",
       "      <td>Алматы, Жетысуский р-н, пересечении улиц Райым...</td>\n",
       "      <td>Алматы</td>\n",
       "      <td>Жетысуский р-н</td>\n",
       "      <td>пересечении улиц Райымбека и Суюнбая</td>\n",
       "      <td>NaN</td>\n",
       "    </tr>\n",
       "    <tr>\n",
       "      <th>3</th>\n",
       "      <td>1-комн. 39.4 м²</td>\n",
       "      <td>400000.0</td>\n",
       "      <td>16548000.0</td>\n",
       "      <td>https://krisha.kz/complex/show/nur-sultan/stol...</td>\n",
       "      <td>Астана, Сарыарка р-н, ул. Абая, 10/2</td>\n",
       "      <td>Астана</td>\n",
       "      <td>Сарыарка р-н</td>\n",
       "      <td>ул. Абая</td>\n",
       "      <td>10/2</td>\n",
       "    </tr>\n",
       "    <tr>\n",
       "      <th>4</th>\n",
       "      <td>2-комн. 75.93 м²</td>\n",
       "      <td>960000.0</td>\n",
       "      <td>72864000.0</td>\n",
       "      <td>https://krisha.kz/complex/show/gornoe-solnce/</td>\n",
       "      <td>Алматы, Бостандыкский р-н, Проспект Аль-Фараби...</td>\n",
       "      <td>Алматы</td>\n",
       "      <td>Бостандыкский р-н</td>\n",
       "      <td>Проспект Аль-Фараби</td>\n",
       "      <td>144</td>\n",
       "    </tr>\n",
       "  </tbody>\n",
       "</table>\n",
       "</div>"
      ],
      "text/plain": [
       "               Area  square_price  price_start_from  \\\n",
       "0   1-комн. 41.9 м²      630000.0        35728498.0   \n",
       "1   3-комн. 76.4 м²      590000.0        54014800.0   \n",
       "2   1-комн. 37.6 м²      595000.0        25229600.0   \n",
       "3   1-комн. 39.4 м²      400000.0        16548000.0   \n",
       "4  2-комн. 75.93 м²      960000.0        72864000.0   \n",
       "\n",
       "                                                link  \\\n",
       "0     https://krisha.kz/complex/show/almaty/ramsevo/   \n",
       "1    https://krisha.kz/complex/show/almaty/ramscity/   \n",
       "2  https://krisha.kz/complex/show/almaty/ramssaia...   \n",
       "3  https://krisha.kz/complex/show/nur-sultan/stol...   \n",
       "4      https://krisha.kz/complex/show/gornoe-solnce/   \n",
       "\n",
       "                                             address    City  \\\n",
       "0  Алматы, Алмалинский р-н, пересечение Ауэзова и...  Алматы   \n",
       "1      Алматы, Бостандыкский р-н, ул. Жандосова, 94А  Алматы   \n",
       "2  Алматы, Жетысуский р-н, пересечении улиц Райым...  Алматы   \n",
       "3               Астана, Сарыарка р-н, ул. Абая, 10/2  Астана   \n",
       "4  Алматы, Бостандыкский р-н, Проспект Аль-Фараби...  Алматы   \n",
       "\n",
       "             district                                 Street house_number  \n",
       "0     Алмалинский р-н           пересечение Ауэзова и Гоголя          NaN  \n",
       "1   Бостандыкский р-н                          ул. Жандосова          94А  \n",
       "2      Жетысуский р-н   пересечении улиц Райымбека и Суюнбая          NaN  \n",
       "3        Сарыарка р-н                               ул. Абая         10/2  \n",
       "4   Бостандыкский р-н                    Проспект Аль-Фараби          144  "
      ]
     },
     "execution_count": 69,
     "metadata": {},
     "output_type": "execute_result"
    }
   ],
   "source": [
    "df = pd.read_csv('KrishaKZ.csv')\n",
    "df.head()"
   ]
  }
 ],
 "metadata": {
  "kernelspec": {
   "display_name": "Python 3 (ipykernel)",
   "language": "python",
   "name": "python3"
  },
  "language_info": {
   "codemirror_mode": {
    "name": "ipython",
    "version": 3
   },
   "file_extension": ".py",
   "mimetype": "text/x-python",
   "name": "python",
   "nbconvert_exporter": "python",
   "pygments_lexer": "ipython3",
   "version": "3.11.4"
  }
 },
 "nbformat": 4,
 "nbformat_minor": 5
}
